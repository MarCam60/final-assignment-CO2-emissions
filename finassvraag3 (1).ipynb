{
  "cells": [
    {
      "cell_type": "code",
      "execution_count": 1,
      "metadata": {
        "id": "3MZJIHnnohrb"
      },
      "outputs": [],
      "source": [
        "#Wat heb ik gedaan.\n",
        "#Eerst bepaald welke niet fossiele energie interessant zijn. \n",
        "#Vervolgens  gezocht naar een data set met prijzen van niet fossiele energie. \n",
        "#De data vervolgens verschoond via drop(na). Daarna kolommen verwijderd die niet interessant zijn en de namen van de kolommen veranderd. \n",
        "#De volgende stap was om lineaire regressie toe te passen. \n",
        "#De daaruit verkregen informatie heb ik vervolgens gebruikt om een nieuwe dataframe te maken met die gegevens. \n",
        "#Tenslotte heb ik uit de nieuwe dataframe een plot gemaakt. \n",
        "#Conclusie: Daaruit blijkt dat de beste prijs voor niet fossiele energie komt ten gunste van solar energie.\n",
        " #Als laatste heb ik voor de jaren 2000 tot en met 2050 nog een voorspelling van de prijzen gemaakt en dit ook grafisch weergegeven. Daaruit blijkt temeer de daling van de solar, Zonne energie is daarmee de niet fossiele energie  met de laagste prijs voor de toekomst."
      ]
    },
    {
      "cell_type": "markdown",
      "metadata": {
        "id": "yY_iKdFTogBK"
      },
      "source": [
        "\n"
      ]
    },
    {
      "cell_type": "code",
      "execution_count": 2,
      "metadata": {
        "id": "NHKHfW8UVDg2"
      },
      "outputs": [],
      "source": [
        "import pandas as pd\n",
        "import numpy as np\n",
        "df = pd.read_csv('/content/levelized-cost-of-energy.csv')"
      ]
    },
    {
      "cell_type": "code",
      "execution_count": 3,
      "metadata": {
        "colab": {
          "base_uri": "https://localhost:8080/",
          "height": 527
        },
        "id": "cQnsgnekVqm6",
        "outputId": "79507629-0830-4fe1-dae8-e28862039705"
      },
      "outputs": [
        {
          "data": {
            "text/html": [
              "\n",
              "  <div id=\"df-bff2ad12-026c-49aa-bcad-6ed39ec7affa\">\n",
              "    <div class=\"colab-df-container\">\n",
              "      <div>\n",
              "<style scoped>\n",
              "    .dataframe tbody tr th:only-of-type {\n",
              "        vertical-align: middle;\n",
              "    }\n",
              "\n",
              "    .dataframe tbody tr th {\n",
              "        vertical-align: top;\n",
              "    }\n",
              "\n",
              "    .dataframe thead th {\n",
              "        text-align: right;\n",
              "    }\n",
              "</style>\n",
              "<table border=\"1\" class=\"dataframe\">\n",
              "  <thead>\n",
              "    <tr style=\"text-align: right;\">\n",
              "      <th></th>\n",
              "      <th>Entity</th>\n",
              "      <th>Code</th>\n",
              "      <th>Year</th>\n",
              "      <th>Bioenergy levelized cost of energy</th>\n",
              "      <th>Geothermal levelized cost of energy</th>\n",
              "      <th>Offshore wind levelized cost of energy</th>\n",
              "      <th>Solar photovoltaic levelized cost of energy</th>\n",
              "      <th>Concentrated solar power levelized cost of energy</th>\n",
              "      <th>Hydropower levelized cost of energy</th>\n",
              "      <th>Onshore wind levelized cost of energy</th>\n",
              "    </tr>\n",
              "  </thead>\n",
              "  <tbody>\n",
              "    <tr>\n",
              "      <th>447</th>\n",
              "      <td>World</td>\n",
              "      <td>OWID_WRL</td>\n",
              "      <td>2010</td>\n",
              "      <td>0.078189</td>\n",
              "      <td>0.050445</td>\n",
              "      <td>0.187857</td>\n",
              "      <td>0.417149</td>\n",
              "      <td>0.358004</td>\n",
              "      <td>0.038883</td>\n",
              "      <td>0.102061</td>\n",
              "    </tr>\n",
              "    <tr>\n",
              "      <th>449</th>\n",
              "      <td>World</td>\n",
              "      <td>OWID_WRL</td>\n",
              "      <td>2012</td>\n",
              "      <td>0.061879</td>\n",
              "      <td>0.085695</td>\n",
              "      <td>0.166601</td>\n",
              "      <td>0.232633</td>\n",
              "      <td>0.337574</td>\n",
              "      <td>0.038038</td>\n",
              "      <td>0.088390</td>\n",
              "    </tr>\n",
              "    <tr>\n",
              "      <th>450</th>\n",
              "      <td>World</td>\n",
              "      <td>OWID_WRL</td>\n",
              "      <td>2013</td>\n",
              "      <td>0.082198</td>\n",
              "      <td>0.064111</td>\n",
              "      <td>0.166662</td>\n",
              "      <td>0.179401</td>\n",
              "      <td>0.248888</td>\n",
              "      <td>0.042512</td>\n",
              "      <td>0.089206</td>\n",
              "    </tr>\n",
              "    <tr>\n",
              "      <th>451</th>\n",
              "      <td>World</td>\n",
              "      <td>OWID_WRL</td>\n",
              "      <td>2014</td>\n",
              "      <td>0.082375</td>\n",
              "      <td>0.065335</td>\n",
              "      <td>0.172199</td>\n",
              "      <td>0.161258</td>\n",
              "      <td>0.216377</td>\n",
              "      <td>0.042457</td>\n",
              "      <td>0.080203</td>\n",
              "    </tr>\n",
              "    <tr>\n",
              "      <th>452</th>\n",
              "      <td>World</td>\n",
              "      <td>OWID_WRL</td>\n",
              "      <td>2015</td>\n",
              "      <td>0.072771</td>\n",
              "      <td>0.058849</td>\n",
              "      <td>0.140527</td>\n",
              "      <td>0.121080</td>\n",
              "      <td>0.223889</td>\n",
              "      <td>0.036572</td>\n",
              "      <td>0.068962</td>\n",
              "    </tr>\n",
              "    <tr>\n",
              "      <th>453</th>\n",
              "      <td>World</td>\n",
              "      <td>OWID_WRL</td>\n",
              "      <td>2016</td>\n",
              "      <td>0.071178</td>\n",
              "      <td>0.067802</td>\n",
              "      <td>0.116323</td>\n",
              "      <td>0.106340</td>\n",
              "      <td>0.247269</td>\n",
              "      <td>0.048389</td>\n",
              "      <td>0.063855</td>\n",
              "    </tr>\n",
              "    <tr>\n",
              "      <th>454</th>\n",
              "      <td>World</td>\n",
              "      <td>OWID_WRL</td>\n",
              "      <td>2017</td>\n",
              "      <td>0.071070</td>\n",
              "      <td>0.070917</td>\n",
              "      <td>0.106152</td>\n",
              "      <td>0.083660</td>\n",
              "      <td>0.206213</td>\n",
              "      <td>0.050722</td>\n",
              "      <td>0.059959</td>\n",
              "    </tr>\n",
              "    <tr>\n",
              "      <th>455</th>\n",
              "      <td>World</td>\n",
              "      <td>OWID_WRL</td>\n",
              "      <td>2018</td>\n",
              "      <td>0.055360</td>\n",
              "      <td>0.067583</td>\n",
              "      <td>0.100049</td>\n",
              "      <td>0.071139</td>\n",
              "      <td>0.149103</td>\n",
              "      <td>0.039837</td>\n",
              "      <td>0.050880</td>\n",
              "    </tr>\n",
              "    <tr>\n",
              "      <th>456</th>\n",
              "      <td>World</td>\n",
              "      <td>OWID_WRL</td>\n",
              "      <td>2019</td>\n",
              "      <td>0.063933</td>\n",
              "      <td>0.067305</td>\n",
              "      <td>0.086388</td>\n",
              "      <td>0.062119</td>\n",
              "      <td>0.211831</td>\n",
              "      <td>0.041409</td>\n",
              "      <td>0.044592</td>\n",
              "    </tr>\n",
              "    <tr>\n",
              "      <th>457</th>\n",
              "      <td>World</td>\n",
              "      <td>OWID_WRL</td>\n",
              "      <td>2020</td>\n",
              "      <td>0.072473</td>\n",
              "      <td>0.054264</td>\n",
              "      <td>0.086266</td>\n",
              "      <td>0.055444</td>\n",
              "      <td>0.106653</td>\n",
              "      <td>0.045966</td>\n",
              "      <td>0.037137</td>\n",
              "    </tr>\n",
              "    <tr>\n",
              "      <th>458</th>\n",
              "      <td>World</td>\n",
              "      <td>OWID_WRL</td>\n",
              "      <td>2021</td>\n",
              "      <td>0.067343</td>\n",
              "      <td>0.067616</td>\n",
              "      <td>0.075167</td>\n",
              "      <td>0.048346</td>\n",
              "      <td>0.114242</td>\n",
              "      <td>0.048300</td>\n",
              "      <td>0.033123</td>\n",
              "    </tr>\n",
              "  </tbody>\n",
              "</table>\n",
              "</div>\n",
              "      <button class=\"colab-df-convert\" onclick=\"convertToInteractive('df-bff2ad12-026c-49aa-bcad-6ed39ec7affa')\"\n",
              "              title=\"Convert this dataframe to an interactive table.\"\n",
              "              style=\"display:none;\">\n",
              "        \n",
              "  <svg xmlns=\"http://www.w3.org/2000/svg\" height=\"24px\"viewBox=\"0 0 24 24\"\n",
              "       width=\"24px\">\n",
              "    <path d=\"M0 0h24v24H0V0z\" fill=\"none\"/>\n",
              "    <path d=\"M18.56 5.44l.94 2.06.94-2.06 2.06-.94-2.06-.94-.94-2.06-.94 2.06-2.06.94zm-11 1L8.5 8.5l.94-2.06 2.06-.94-2.06-.94L8.5 2.5l-.94 2.06-2.06.94zm10 10l.94 2.06.94-2.06 2.06-.94-2.06-.94-.94-2.06-.94 2.06-2.06.94z\"/><path d=\"M17.41 7.96l-1.37-1.37c-.4-.4-.92-.59-1.43-.59-.52 0-1.04.2-1.43.59L10.3 9.45l-7.72 7.72c-.78.78-.78 2.05 0 2.83L4 21.41c.39.39.9.59 1.41.59.51 0 1.02-.2 1.41-.59l7.78-7.78 2.81-2.81c.8-.78.8-2.07 0-2.86zM5.41 20L4 18.59l7.72-7.72 1.47 1.35L5.41 20z\"/>\n",
              "  </svg>\n",
              "      </button>\n",
              "      \n",
              "  <style>\n",
              "    .colab-df-container {\n",
              "      display:flex;\n",
              "      flex-wrap:wrap;\n",
              "      gap: 12px;\n",
              "    }\n",
              "\n",
              "    .colab-df-convert {\n",
              "      background-color: #E8F0FE;\n",
              "      border: none;\n",
              "      border-radius: 50%;\n",
              "      cursor: pointer;\n",
              "      display: none;\n",
              "      fill: #1967D2;\n",
              "      height: 32px;\n",
              "      padding: 0 0 0 0;\n",
              "      width: 32px;\n",
              "    }\n",
              "\n",
              "    .colab-df-convert:hover {\n",
              "      background-color: #E2EBFA;\n",
              "      box-shadow: 0px 1px 2px rgba(60, 64, 67, 0.3), 0px 1px 3px 1px rgba(60, 64, 67, 0.15);\n",
              "      fill: #174EA6;\n",
              "    }\n",
              "\n",
              "    [theme=dark] .colab-df-convert {\n",
              "      background-color: #3B4455;\n",
              "      fill: #D2E3FC;\n",
              "    }\n",
              "\n",
              "    [theme=dark] .colab-df-convert:hover {\n",
              "      background-color: #434B5C;\n",
              "      box-shadow: 0px 1px 3px 1px rgba(0, 0, 0, 0.15);\n",
              "      filter: drop-shadow(0px 1px 2px rgba(0, 0, 0, 0.3));\n",
              "      fill: #FFFFFF;\n",
              "    }\n",
              "  </style>\n",
              "\n",
              "      <script>\n",
              "        const buttonEl =\n",
              "          document.querySelector('#df-bff2ad12-026c-49aa-bcad-6ed39ec7affa button.colab-df-convert');\n",
              "        buttonEl.style.display =\n",
              "          google.colab.kernel.accessAllowed ? 'block' : 'none';\n",
              "\n",
              "        async function convertToInteractive(key) {\n",
              "          const element = document.querySelector('#df-bff2ad12-026c-49aa-bcad-6ed39ec7affa');\n",
              "          const dataTable =\n",
              "            await google.colab.kernel.invokeFunction('convertToInteractive',\n",
              "                                                     [key], {});\n",
              "          if (!dataTable) return;\n",
              "\n",
              "          const docLinkHtml = 'Like what you see? Visit the ' +\n",
              "            '<a target=\"_blank\" href=https://colab.research.google.com/notebooks/data_table.ipynb>data table notebook</a>'\n",
              "            + ' to learn more about interactive tables.';\n",
              "          element.innerHTML = '';\n",
              "          dataTable['output_type'] = 'display_data';\n",
              "          await google.colab.output.renderOutput(dataTable, element);\n",
              "          const docLink = document.createElement('div');\n",
              "          docLink.innerHTML = docLinkHtml;\n",
              "          element.appendChild(docLink);\n",
              "        }\n",
              "      </script>\n",
              "    </div>\n",
              "  </div>\n",
              "  "
            ],
            "text/plain": [
              "    Entity      Code  Year  Bioenergy levelized cost of energy  \\\n",
              "447  World  OWID_WRL  2010                            0.078189   \n",
              "449  World  OWID_WRL  2012                            0.061879   \n",
              "450  World  OWID_WRL  2013                            0.082198   \n",
              "451  World  OWID_WRL  2014                            0.082375   \n",
              "452  World  OWID_WRL  2015                            0.072771   \n",
              "453  World  OWID_WRL  2016                            0.071178   \n",
              "454  World  OWID_WRL  2017                            0.071070   \n",
              "455  World  OWID_WRL  2018                            0.055360   \n",
              "456  World  OWID_WRL  2019                            0.063933   \n",
              "457  World  OWID_WRL  2020                            0.072473   \n",
              "458  World  OWID_WRL  2021                            0.067343   \n",
              "\n",
              "     Geothermal levelized cost of energy  \\\n",
              "447                             0.050445   \n",
              "449                             0.085695   \n",
              "450                             0.064111   \n",
              "451                             0.065335   \n",
              "452                             0.058849   \n",
              "453                             0.067802   \n",
              "454                             0.070917   \n",
              "455                             0.067583   \n",
              "456                             0.067305   \n",
              "457                             0.054264   \n",
              "458                             0.067616   \n",
              "\n",
              "     Offshore wind levelized cost of energy  \\\n",
              "447                                0.187857   \n",
              "449                                0.166601   \n",
              "450                                0.166662   \n",
              "451                                0.172199   \n",
              "452                                0.140527   \n",
              "453                                0.116323   \n",
              "454                                0.106152   \n",
              "455                                0.100049   \n",
              "456                                0.086388   \n",
              "457                                0.086266   \n",
              "458                                0.075167   \n",
              "\n",
              "     Solar photovoltaic levelized cost of energy  \\\n",
              "447                                     0.417149   \n",
              "449                                     0.232633   \n",
              "450                                     0.179401   \n",
              "451                                     0.161258   \n",
              "452                                     0.121080   \n",
              "453                                     0.106340   \n",
              "454                                     0.083660   \n",
              "455                                     0.071139   \n",
              "456                                     0.062119   \n",
              "457                                     0.055444   \n",
              "458                                     0.048346   \n",
              "\n",
              "     Concentrated solar power levelized cost of energy  \\\n",
              "447                                           0.358004   \n",
              "449                                           0.337574   \n",
              "450                                           0.248888   \n",
              "451                                           0.216377   \n",
              "452                                           0.223889   \n",
              "453                                           0.247269   \n",
              "454                                           0.206213   \n",
              "455                                           0.149103   \n",
              "456                                           0.211831   \n",
              "457                                           0.106653   \n",
              "458                                           0.114242   \n",
              "\n",
              "     Hydropower levelized cost of energy  \\\n",
              "447                             0.038883   \n",
              "449                             0.038038   \n",
              "450                             0.042512   \n",
              "451                             0.042457   \n",
              "452                             0.036572   \n",
              "453                             0.048389   \n",
              "454                             0.050722   \n",
              "455                             0.039837   \n",
              "456                             0.041409   \n",
              "457                             0.045966   \n",
              "458                             0.048300   \n",
              "\n",
              "     Onshore wind levelized cost of energy  \n",
              "447                               0.102061  \n",
              "449                               0.088390  \n",
              "450                               0.089206  \n",
              "451                               0.080203  \n",
              "452                               0.068962  \n",
              "453                               0.063855  \n",
              "454                               0.059959  \n",
              "455                               0.050880  \n",
              "456                               0.044592  \n",
              "457                               0.037137  \n",
              "458                               0.033123  "
            ]
          },
          "execution_count": 3,
          "metadata": {},
          "output_type": "execute_result"
        }
      ],
      "source": [
        "df_1= df.dropna()\n",
        "df_1"
      ]
    },
    {
      "cell_type": "code",
      "execution_count": 4,
      "metadata": {
        "id": "9aNLxf2qaSRM"
      },
      "outputs": [],
      "source": [
        "df_2 = df_1.drop(['Entity', 'Code'], axis=1)"
      ]
    },
    {
      "cell_type": "code",
      "execution_count": 5,
      "metadata": {
        "colab": {
          "base_uri": "https://localhost:8080/",
          "height": 438
        },
        "id": "sCBG0XF32k86",
        "outputId": "f223759d-9178-4bb2-89c5-f74de6711e57"
      },
      "outputs": [
        {
          "data": {
            "text/html": [
              "\n",
              "  <div id=\"df-c676d882-4c63-4e55-a13f-93b5de4e2edb\">\n",
              "    <div class=\"colab-df-container\">\n",
              "      <div>\n",
              "<style scoped>\n",
              "    .dataframe tbody tr th:only-of-type {\n",
              "        vertical-align: middle;\n",
              "    }\n",
              "\n",
              "    .dataframe tbody tr th {\n",
              "        vertical-align: top;\n",
              "    }\n",
              "\n",
              "    .dataframe thead th {\n",
              "        text-align: right;\n",
              "    }\n",
              "</style>\n",
              "<table border=\"1\" class=\"dataframe\">\n",
              "  <thead>\n",
              "    <tr style=\"text-align: right;\">\n",
              "      <th></th>\n",
              "      <th>Year</th>\n",
              "      <th>Bio</th>\n",
              "      <th>Geo</th>\n",
              "      <th>Offshore</th>\n",
              "      <th>Solar</th>\n",
              "      <th>Con</th>\n",
              "      <th>Hydro</th>\n",
              "      <th>Onshore</th>\n",
              "    </tr>\n",
              "  </thead>\n",
              "  <tbody>\n",
              "    <tr>\n",
              "      <th>447</th>\n",
              "      <td>2010</td>\n",
              "      <td>0.078189</td>\n",
              "      <td>0.050445</td>\n",
              "      <td>0.187857</td>\n",
              "      <td>0.417149</td>\n",
              "      <td>0.358004</td>\n",
              "      <td>0.038883</td>\n",
              "      <td>0.102061</td>\n",
              "    </tr>\n",
              "    <tr>\n",
              "      <th>449</th>\n",
              "      <td>2012</td>\n",
              "      <td>0.061879</td>\n",
              "      <td>0.085695</td>\n",
              "      <td>0.166601</td>\n",
              "      <td>0.232633</td>\n",
              "      <td>0.337574</td>\n",
              "      <td>0.038038</td>\n",
              "      <td>0.088390</td>\n",
              "    </tr>\n",
              "    <tr>\n",
              "      <th>450</th>\n",
              "      <td>2013</td>\n",
              "      <td>0.082198</td>\n",
              "      <td>0.064111</td>\n",
              "      <td>0.166662</td>\n",
              "      <td>0.179401</td>\n",
              "      <td>0.248888</td>\n",
              "      <td>0.042512</td>\n",
              "      <td>0.089206</td>\n",
              "    </tr>\n",
              "    <tr>\n",
              "      <th>451</th>\n",
              "      <td>2014</td>\n",
              "      <td>0.082375</td>\n",
              "      <td>0.065335</td>\n",
              "      <td>0.172199</td>\n",
              "      <td>0.161258</td>\n",
              "      <td>0.216377</td>\n",
              "      <td>0.042457</td>\n",
              "      <td>0.080203</td>\n",
              "    </tr>\n",
              "    <tr>\n",
              "      <th>452</th>\n",
              "      <td>2015</td>\n",
              "      <td>0.072771</td>\n",
              "      <td>0.058849</td>\n",
              "      <td>0.140527</td>\n",
              "      <td>0.121080</td>\n",
              "      <td>0.223889</td>\n",
              "      <td>0.036572</td>\n",
              "      <td>0.068962</td>\n",
              "    </tr>\n",
              "    <tr>\n",
              "      <th>453</th>\n",
              "      <td>2016</td>\n",
              "      <td>0.071178</td>\n",
              "      <td>0.067802</td>\n",
              "      <td>0.116323</td>\n",
              "      <td>0.106340</td>\n",
              "      <td>0.247269</td>\n",
              "      <td>0.048389</td>\n",
              "      <td>0.063855</td>\n",
              "    </tr>\n",
              "    <tr>\n",
              "      <th>454</th>\n",
              "      <td>2017</td>\n",
              "      <td>0.071070</td>\n",
              "      <td>0.070917</td>\n",
              "      <td>0.106152</td>\n",
              "      <td>0.083660</td>\n",
              "      <td>0.206213</td>\n",
              "      <td>0.050722</td>\n",
              "      <td>0.059959</td>\n",
              "    </tr>\n",
              "    <tr>\n",
              "      <th>455</th>\n",
              "      <td>2018</td>\n",
              "      <td>0.055360</td>\n",
              "      <td>0.067583</td>\n",
              "      <td>0.100049</td>\n",
              "      <td>0.071139</td>\n",
              "      <td>0.149103</td>\n",
              "      <td>0.039837</td>\n",
              "      <td>0.050880</td>\n",
              "    </tr>\n",
              "    <tr>\n",
              "      <th>456</th>\n",
              "      <td>2019</td>\n",
              "      <td>0.063933</td>\n",
              "      <td>0.067305</td>\n",
              "      <td>0.086388</td>\n",
              "      <td>0.062119</td>\n",
              "      <td>0.211831</td>\n",
              "      <td>0.041409</td>\n",
              "      <td>0.044592</td>\n",
              "    </tr>\n",
              "    <tr>\n",
              "      <th>457</th>\n",
              "      <td>2020</td>\n",
              "      <td>0.072473</td>\n",
              "      <td>0.054264</td>\n",
              "      <td>0.086266</td>\n",
              "      <td>0.055444</td>\n",
              "      <td>0.106653</td>\n",
              "      <td>0.045966</td>\n",
              "      <td>0.037137</td>\n",
              "    </tr>\n",
              "    <tr>\n",
              "      <th>458</th>\n",
              "      <td>2021</td>\n",
              "      <td>0.067343</td>\n",
              "      <td>0.067616</td>\n",
              "      <td>0.075167</td>\n",
              "      <td>0.048346</td>\n",
              "      <td>0.114242</td>\n",
              "      <td>0.048300</td>\n",
              "      <td>0.033123</td>\n",
              "    </tr>\n",
              "  </tbody>\n",
              "</table>\n",
              "</div>\n",
              "      <button class=\"colab-df-convert\" onclick=\"convertToInteractive('df-c676d882-4c63-4e55-a13f-93b5de4e2edb')\"\n",
              "              title=\"Convert this dataframe to an interactive table.\"\n",
              "              style=\"display:none;\">\n",
              "        \n",
              "  <svg xmlns=\"http://www.w3.org/2000/svg\" height=\"24px\"viewBox=\"0 0 24 24\"\n",
              "       width=\"24px\">\n",
              "    <path d=\"M0 0h24v24H0V0z\" fill=\"none\"/>\n",
              "    <path d=\"M18.56 5.44l.94 2.06.94-2.06 2.06-.94-2.06-.94-.94-2.06-.94 2.06-2.06.94zm-11 1L8.5 8.5l.94-2.06 2.06-.94-2.06-.94L8.5 2.5l-.94 2.06-2.06.94zm10 10l.94 2.06.94-2.06 2.06-.94-2.06-.94-.94-2.06-.94 2.06-2.06.94z\"/><path d=\"M17.41 7.96l-1.37-1.37c-.4-.4-.92-.59-1.43-.59-.52 0-1.04.2-1.43.59L10.3 9.45l-7.72 7.72c-.78.78-.78 2.05 0 2.83L4 21.41c.39.39.9.59 1.41.59.51 0 1.02-.2 1.41-.59l7.78-7.78 2.81-2.81c.8-.78.8-2.07 0-2.86zM5.41 20L4 18.59l7.72-7.72 1.47 1.35L5.41 20z\"/>\n",
              "  </svg>\n",
              "      </button>\n",
              "      \n",
              "  <style>\n",
              "    .colab-df-container {\n",
              "      display:flex;\n",
              "      flex-wrap:wrap;\n",
              "      gap: 12px;\n",
              "    }\n",
              "\n",
              "    .colab-df-convert {\n",
              "      background-color: #E8F0FE;\n",
              "      border: none;\n",
              "      border-radius: 50%;\n",
              "      cursor: pointer;\n",
              "      display: none;\n",
              "      fill: #1967D2;\n",
              "      height: 32px;\n",
              "      padding: 0 0 0 0;\n",
              "      width: 32px;\n",
              "    }\n",
              "\n",
              "    .colab-df-convert:hover {\n",
              "      background-color: #E2EBFA;\n",
              "      box-shadow: 0px 1px 2px rgba(60, 64, 67, 0.3), 0px 1px 3px 1px rgba(60, 64, 67, 0.15);\n",
              "      fill: #174EA6;\n",
              "    }\n",
              "\n",
              "    [theme=dark] .colab-df-convert {\n",
              "      background-color: #3B4455;\n",
              "      fill: #D2E3FC;\n",
              "    }\n",
              "\n",
              "    [theme=dark] .colab-df-convert:hover {\n",
              "      background-color: #434B5C;\n",
              "      box-shadow: 0px 1px 3px 1px rgba(0, 0, 0, 0.15);\n",
              "      filter: drop-shadow(0px 1px 2px rgba(0, 0, 0, 0.3));\n",
              "      fill: #FFFFFF;\n",
              "    }\n",
              "  </style>\n",
              "\n",
              "      <script>\n",
              "        const buttonEl =\n",
              "          document.querySelector('#df-c676d882-4c63-4e55-a13f-93b5de4e2edb button.colab-df-convert');\n",
              "        buttonEl.style.display =\n",
              "          google.colab.kernel.accessAllowed ? 'block' : 'none';\n",
              "\n",
              "        async function convertToInteractive(key) {\n",
              "          const element = document.querySelector('#df-c676d882-4c63-4e55-a13f-93b5de4e2edb');\n",
              "          const dataTable =\n",
              "            await google.colab.kernel.invokeFunction('convertToInteractive',\n",
              "                                                     [key], {});\n",
              "          if (!dataTable) return;\n",
              "\n",
              "          const docLinkHtml = 'Like what you see? Visit the ' +\n",
              "            '<a target=\"_blank\" href=https://colab.research.google.com/notebooks/data_table.ipynb>data table notebook</a>'\n",
              "            + ' to learn more about interactive tables.';\n",
              "          element.innerHTML = '';\n",
              "          dataTable['output_type'] = 'display_data';\n",
              "          await google.colab.output.renderOutput(dataTable, element);\n",
              "          const docLink = document.createElement('div');\n",
              "          docLink.innerHTML = docLinkHtml;\n",
              "          element.appendChild(docLink);\n",
              "        }\n",
              "      </script>\n",
              "    </div>\n",
              "  </div>\n",
              "  "
            ],
            "text/plain": [
              "     Year       Bio       Geo  Offshore     Solar       Con     Hydro  \\\n",
              "447  2010  0.078189  0.050445  0.187857  0.417149  0.358004  0.038883   \n",
              "449  2012  0.061879  0.085695  0.166601  0.232633  0.337574  0.038038   \n",
              "450  2013  0.082198  0.064111  0.166662  0.179401  0.248888  0.042512   \n",
              "451  2014  0.082375  0.065335  0.172199  0.161258  0.216377  0.042457   \n",
              "452  2015  0.072771  0.058849  0.140527  0.121080  0.223889  0.036572   \n",
              "453  2016  0.071178  0.067802  0.116323  0.106340  0.247269  0.048389   \n",
              "454  2017  0.071070  0.070917  0.106152  0.083660  0.206213  0.050722   \n",
              "455  2018  0.055360  0.067583  0.100049  0.071139  0.149103  0.039837   \n",
              "456  2019  0.063933  0.067305  0.086388  0.062119  0.211831  0.041409   \n",
              "457  2020  0.072473  0.054264  0.086266  0.055444  0.106653  0.045966   \n",
              "458  2021  0.067343  0.067616  0.075167  0.048346  0.114242  0.048300   \n",
              "\n",
              "      Onshore  \n",
              "447  0.102061  \n",
              "449  0.088390  \n",
              "450  0.089206  \n",
              "451  0.080203  \n",
              "452  0.068962  \n",
              "453  0.063855  \n",
              "454  0.059959  \n",
              "455  0.050880  \n",
              "456  0.044592  \n",
              "457  0.037137  \n",
              "458  0.033123  "
            ]
          },
          "execution_count": 5,
          "metadata": {},
          "output_type": "execute_result"
        }
      ],
      "source": [
        "df_2.rename({'Bioenergy levelized cost of energy': 'Bio', 'Geothermal levelized cost of energy': 'Geo','Offshore wind levelized cost of energy':'Offshore', 'Solar photovoltaic levelized cost of energy': 'Solar', 'Concentrated solar power levelized cost of energy':'Con','Hydropower levelized cost of energy': 'Hydro', 'Onshore wind levelized cost of energy':'Onshore'}, axis=1, inplace=True)\n",
        "df_2"
      ]
    },
    {
      "cell_type": "code",
      "execution_count": 6,
      "metadata": {
        "id": "GrShvBSp6RDT"
      },
      "outputs": [],
      "source": [
        "from sklearn.linear_model import LinearRegression"
      ]
    },
    {
      "cell_type": "code",
      "execution_count": 7,
      "metadata": {
        "id": "k3NFiy0nCVSO"
      },
      "outputs": [],
      "source": [
        "import matplotlib.pyplot as plt"
      ]
    },
    {
      "cell_type": "code",
      "execution_count": 8,
      "metadata": {
        "id": "MDxKT3AL4Fae"
      },
      "outputs": [],
      "source": [
        "years = np.array(range(2000,2050)).reshape(-1,1)\n"
      ]
    },
    {
      "cell_type": "code",
      "execution_count": 9,
      "metadata": {
        "colab": {
          "base_uri": "https://localhost:8080/"
        },
        "id": "vwJNLPpg5Hka",
        "outputId": "26bd64fb-603d-48ae-96a7-998e1bbda4c6"
      },
      "outputs": [
        {
          "name": "stdout",
          "output_type": "stream",
          "text": [
            "[[0.07713971]\n",
            " [0.07499305]\n",
            " [0.07391971]\n",
            " [0.07284638]\n",
            " [0.07177304]\n",
            " [0.07069971]\n",
            " [0.06962637]\n",
            " [0.06855304]\n",
            " [0.06747971]\n",
            " [0.06640637]\n",
            " [0.06533304]]\n"
          ]
        }
      ],
      "source": [
        "X = df_2.iloc[:, 0].values.reshape(-1, 1)  # values converts it into a numpy array\n",
        "Bio = df_2['Bio'].values.reshape(-1, 1)  # -1 means that calculate the dimension of rows, but have 1 column\n",
        "linear_regressor = LinearRegression()  # create object for the class\n",
        "linear_regressor.fit(X, Bio)  # perform linear regression\n",
        "Bio_pred = linear_regressor.predict(X)  # make predictions\n",
        "print (Bio_pred)"
      ]
    },
    {
      "cell_type": "code",
      "execution_count": 10,
      "metadata": {
        "id": "uRhHHflZ3hdk"
      },
      "outputs": [],
      "source": [
        "Bio_pred= linear_regressor.predict(years)"
      ]
    },
    {
      "cell_type": "code",
      "execution_count": 11,
      "metadata": {
        "colab": {
          "base_uri": "https://localhost:8080/"
        },
        "id": "wFs8M2cC6_bF",
        "outputId": "71ff26d6-813d-48b0-e198-a8bbc55d3123"
      },
      "outputs": [
        {
          "name": "stdout",
          "output_type": "stream",
          "text": [
            "[[0.08787306]\n",
            " [0.08679972]\n",
            " [0.08572639]\n",
            " [0.08465305]\n",
            " [0.08357972]\n",
            " [0.08250639]\n",
            " [0.08143305]\n",
            " [0.08035972]\n",
            " [0.07928638]\n",
            " [0.07821305]\n",
            " [0.07713971]\n",
            " [0.07606638]\n",
            " [0.07499305]\n",
            " [0.07391971]\n",
            " [0.07284638]\n",
            " [0.07177304]\n",
            " [0.07069971]\n",
            " [0.06962637]\n",
            " [0.06855304]\n",
            " [0.06747971]\n",
            " [0.06640637]\n",
            " [0.06533304]\n",
            " [0.0642597 ]\n",
            " [0.06318637]\n",
            " [0.06211303]\n",
            " [0.0610397 ]\n",
            " [0.05996636]\n",
            " [0.05889303]\n",
            " [0.0578197 ]\n",
            " [0.05674636]\n",
            " [0.05567303]\n",
            " [0.05459969]\n",
            " [0.05352636]\n",
            " [0.05245302]\n",
            " [0.05137969]\n",
            " [0.05030636]\n",
            " [0.04923302]\n",
            " [0.04815969]\n",
            " [0.04708635]\n",
            " [0.04601302]\n",
            " [0.04493968]\n",
            " [0.04386635]\n",
            " [0.04279302]\n",
            " [0.04171968]\n",
            " [0.04064635]\n",
            " [0.03957301]\n",
            " [0.03849968]\n",
            " [0.03742634]\n",
            " [0.03635301]\n",
            " [0.03527968]]\n"
          ]
        }
      ],
      "source": [
        "print (Bio_pred)"
      ]
    },
    {
      "cell_type": "code",
      "execution_count": 12,
      "metadata": {
        "colab": {
          "base_uri": "https://localhost:8080/",
          "height": 284
        },
        "id": "qKz0pL1f5s5U",
        "outputId": "70df7fa3-181b-49c0-c877-bcd0aaa282b9"
      },
      "outputs": [
        {
          "data": {
            "text/plain": [
              "[<matplotlib.lines.Line2D at 0x7fa8f3b95250>]"
            ]
          },
          "execution_count": 12,
          "metadata": {},
          "output_type": "execute_result"
        },
        {
          "data": {
            "image/png": "[encoded data removed]",
            "text/plain": [
              "<Figure size 432x288 with 1 Axes>"
            ]
          },
          "metadata": {
            "needs_background": "light"
          },
          "output_type": "display_data"
        }
      ],
      "source": [
        "plt.plot (Bio_pred)"
      ]
    },
    {
      "cell_type": "code",
      "execution_count": 13,
      "metadata": {
        "id": "5pg1LH4pOzZ8"
      },
      "outputs": [],
      "source": [
        "df_Bio={'Bio': [0.07713971, 0.07499305, 0.07391971, 0.07284638, 0.07177304, 0.07069971, 0.06962637, 0.06855304, 0.06747971,0.06640637, 0.06533304]}\n",
        "df_Bio = pd.DataFrame(df_Bio)"
      ]
    },
    {
      "cell_type": "code",
      "execution_count": null,
      "metadata": {
        "id": "p_1Xeeyl6UQL"
      },
      "outputs": [],
      "source": [
        "X = df_2.iloc[:, 0].values.reshape(-1, 1)  # values converts it into a numpy array\n",
        "Geo = df_2['Geo'].values.reshape(-1, 1)  # -1 means that calculate the dimension of rows, but have 1 column\n",
        "linear_regressor = LinearRegression()  # create object for the class\n",
        "linear_regressor.fit(X, Geo)  # perform linear regression\n",
        "Geo_pred = linear_regressor.predict(X)  # make predictions\n",
        "print (Geo_pred)"
      ]
    },
    {
      "cell_type": "code",
      "execution_count": null,
      "metadata": {
        "id": "65KnGJy43Ly9"
      },
      "outputs": [],
      "source": [
        "Geo_pred= linear_regressor.predict(years)\n",
        "print ( Geo_pred)"
      ]
    },
    {
      "cell_type": "code",
      "execution_count": null,
      "metadata": {
        "id": "TquAQpUl50Kx"
      },
      "outputs": [],
      "source": [
        "plt.plot (Geo_pred)"
      ]
    },
    {
      "cell_type": "code",
      "execution_count": 17,
      "metadata": {
        "id": "NslyTg9fSKv8"
      },
      "outputs": [],
      "source": [
        "df_Geo={ 'Geo': [0.06538492, 0.06540611, 0.0654167, 0.0654273,0.06543789,0.06544848,0.06545908,0.06546967,0.06548026,0.06549086,0.06550145]}\n",
        "df_Geo=pd.DataFrame(df_Geo)"
      ]
    },
    {
      "cell_type": "code",
      "execution_count": null,
      "metadata": {
        "id": "4I5BKoCO65uj"
      },
      "outputs": [],
      "source": [
        "X = df_2.iloc[:, 0].values.reshape(-1, 1)  # values converts it into a numpy array\n",
        "Offshore = df_2['Offshore'].values.reshape(-1, 1)  # -1 means that calculate the dimension of rows, but have 1 column\n",
        "linear_regressor = LinearRegression()  # create object for the class\n",
        "linear_regressor.fit(X, Offshore)  # perform linear regression\n",
        "Offshore_pred = linear_regressor.predict(X)  # make predictions\n",
        "print (Offshore_pred)"
      ]
    },
    {
      "cell_type": "code",
      "execution_count": null,
      "metadata": {
        "id": "K37KRjK15FjM"
      },
      "outputs": [],
      "source": [
        "Offshore_pred= linear_regressor.predict(years)\n",
        "print (Offshore_pred)"
      ]
    },
    {
      "cell_type": "code",
      "execution_count": 20,
      "metadata": {
        "id": "M5ncSSVMSx49"
      },
      "outputs": [],
      "source": [
        "df_Offshore ={ 'Offshore': [0.19433922, 0.17176871, 0.16048346, 0.14919821, 0.13791295, 0.1266277, 0.11534245, 0.1040572 , 0.09277194, 0.08148669, 0.07020144]}\n",
        "df_Offshore= pd.DataFrame(df_Offshore)"
      ]
    },
    {
      "cell_type": "code",
      "execution_count": 21,
      "metadata": {
        "colab": {
          "base_uri": "https://localhost:8080/"
        },
        "id": "kWhmJ56w665T",
        "outputId": "47ae9181-dc20-4d13-8433-74fec9f72ce2"
      },
      "outputs": [
        {
          "name": "stdout",
          "output_type": "stream",
          "text": [
            "[[ 0.30601368]\n",
            " [ 0.2497804 ]\n",
            " [ 0.22166376]\n",
            " [ 0.19354712]\n",
            " [ 0.16543048]\n",
            " [ 0.13731384]\n",
            " [ 0.1091972 ]\n",
            " [ 0.08108056]\n",
            " [ 0.05296392]\n",
            " [ 0.02484728]\n",
            " [-0.00326936]]\n"
          ]
        }
      ],
      "source": [
        "X = df_2.iloc[:, 0].values.reshape(-1, 1)  # values converts it into a numpy array\n",
        "Solar = df_2['Solar'].values.reshape(-1, 1)  # -1 means that calculate the dimension of rows, but have 1 column\n",
        "linear_regressor = LinearRegression()  # create object for the class\n",
        "linear_regressor.fit(X, Solar)  # perform linear regression\n",
        "Solar_pred = linear_regressor.predict(X)  # make predictions\n",
        "print (Solar_pred)"
      ]
    },
    {
      "cell_type": "code",
      "execution_count": 22,
      "metadata": {
        "id": "u4Bs-a3Y2Y1y"
      },
      "outputs": [],
      "source": [
        "Solar_pred= linear_regressor.predict(years)"
      ]
    },
    {
      "cell_type": "code",
      "execution_count": 23,
      "metadata": {
        "id": "VaeWDePGT8n2"
      },
      "outputs": [],
      "source": [
        "df_Solar ={ 'Solar': [0.30601368,  0.2497804 ,  0.22166376,  0.19354712,  0.16543048,  0.13731384,  0.1091972 , 0.08108056,  0.05296392, 0.02484728, -0.00326936]}\n",
        "df_Solar= pd.DataFrame(df_Solar)"
      ]
    },
    {
      "cell_type": "code",
      "execution_count": 24,
      "metadata": {
        "colab": {
          "base_uri": "https://localhost:8080/"
        },
        "id": "OH1ki8J46-_9",
        "outputId": "5d0451ef-9bc4-4157-fc05-189e2e781659"
      },
      "outputs": [
        {
          "name": "stdout",
          "output_type": "stream",
          "text": [
            "[[0.34432944]\n",
            " [0.30225004]\n",
            " [0.28121034]\n",
            " [0.26017064]\n",
            " [0.23913094]\n",
            " [0.21809124]\n",
            " [0.19705154]\n",
            " [0.17601184]\n",
            " [0.15497214]\n",
            " [0.13393243]\n",
            " [0.11289273]]\n"
          ]
        }
      ],
      "source": [
        "X = df_2.iloc[:, 0].values.reshape(-1, 1)  # values converts it into a numpy array\n",
        "Con = df_2['Con'].values.reshape(-1, 1)  # -1 means that calculate the dimension of rows, but have 1 column\n",
        "linear_regressor = LinearRegression()  # create object for the class\n",
        "linear_regressor.fit(X, Con) \n",
        "Con_pred = linear_regressor.predict(X)  # make predictions\n",
        "print (Con_pred)"
      ]
    },
    {
      "cell_type": "code",
      "execution_count": 25,
      "metadata": {
        "id": "edewYDUm2sN0"
      },
      "outputs": [],
      "source": [
        "Con_pred= linear_regressor.predict(years)"
      ]
    },
    {
      "cell_type": "code",
      "execution_count": 26,
      "metadata": {
        "id": "mQyF3BZsUk2t"
      },
      "outputs": [],
      "source": [
        "df_Con={ 'Con': [0.34432944, 0.30225004, 0.28121034, 0.26017064, 0.23913094, 0.21809124, 0.19705154,0.17601184, 0.15497214, 0.13393243, 0.11289273]}\n",
        "df_Con= pd.DataFrame(df_Con)"
      ]
    },
    {
      "cell_type": "code",
      "execution_count": 27,
      "metadata": {
        "colab": {
          "base_uri": "https://localhost:8080/"
        },
        "id": "QzN_C2LC7ALT",
        "outputId": "cbe06e6f-9ef1-4163-b646-56be53b0265a"
      },
      "outputs": [
        {
          "name": "stdout",
          "output_type": "stream",
          "text": [
            "[[0.03868133]\n",
            " [0.0401456 ]\n",
            " [0.04087773]\n",
            " [0.04160987]\n",
            " [0.042342  ]\n",
            " [0.04307414]\n",
            " [0.04380627]\n",
            " [0.04453841]\n",
            " [0.04527054]\n",
            " [0.04600268]\n",
            " [0.04673481]]\n"
          ]
        }
      ],
      "source": [
        "X = df_2.iloc[:, 0].values.reshape(-1, 1)  # values converts it into a numpy array\n",
        "Hydro = df_2['Hydro'].values.reshape(-1, 1)  # -1 means that calculate the dimension of rows, but have 1 column\n",
        "linear_regressor = LinearRegression()  # create object for the class\n",
        "linear_regressor.fit(X, Hydro)  # perform linear regression\n",
        "Hydro_pred = linear_regressor.predict(X)  # make predictions\n",
        "print (Hydro_pred)"
      ]
    },
    {
      "cell_type": "code",
      "execution_count": 28,
      "metadata": {
        "id": "YLo2sDw323Ij"
      },
      "outputs": [],
      "source": [
        "Hydro_pred= linear_regressor.predict(years)"
      ]
    },
    {
      "cell_type": "code",
      "execution_count": 29,
      "metadata": {
        "colab": {
          "base_uri": "https://localhost:8080/",
          "height": 282
        },
        "id": "zAMZJUHS6IAj",
        "outputId": "7fb65d47-b63f-4f53-cbe7-b5277d4fae78"
      },
      "outputs": [
        {
          "data": {
            "text/plain": [
              "[<matplotlib.lines.Line2D at 0x7fa8f364e220>]"
            ]
          },
          "execution_count": 29,
          "metadata": {},
          "output_type": "execute_result"
        },
        {
          "data": {
            "image/png": "[encoded data removed]",
            "text/plain": [
              "<Figure size 432x288 with 1 Axes>"
            ]
          },
          "metadata": {
            "needs_background": "light"
          },
          "output_type": "display_data"
        }
      ],
      "source": [
        "plt.plot ( Hydro_pred)"
      ]
    },
    {
      "cell_type": "code",
      "execution_count": 30,
      "metadata": {
        "id": "x99Ag9Q8VH6F"
      },
      "outputs": [],
      "source": [
        "df_Hydro={ 'Hydro':[0.03868133, 0.0401456 , 0.04087773, 0.04160987, 0.042342, 0.04307414, 0.04380627, 0.04453841, 0.04527054, 0.04600268, 0.04673481]}\n",
        "\n",
        "df_Hydro= pd.DataFrame(df_Hydro)"
      ]
    },
    {
      "cell_type": "code",
      "execution_count": 31,
      "metadata": {
        "colab": {
          "base_uri": "https://localhost:8080/"
        },
        "id": "pm8g6-_r7BW8",
        "outputId": "e2480bd3-db6e-46c7-9149-23c4a8a132d2"
      },
      "outputs": [
        {
          "name": "stdout",
          "output_type": "stream",
          "text": [
            "[[0.1038152 ]\n",
            " [0.09078142]\n",
            " [0.08426453]\n",
            " [0.07774764]\n",
            " [0.07123075]\n",
            " [0.06471386]\n",
            " [0.05819698]\n",
            " [0.05168009]\n",
            " [0.0451632 ]\n",
            " [0.03864631]\n",
            " [0.03212942]]\n"
          ]
        }
      ],
      "source": [
        "X = df_2.iloc[:, 0].values.reshape(-1, 1)  # values converts it into a numpy array\n",
        "Onshore = df_2['Onshore'].values.reshape(-1, 1)  # -1 means that calculate the dimension of rows, but have 1 column\n",
        "linear_regressor = LinearRegression()  # create object for the class\n",
        "linear_regressor.fit(X, Onshore)  # perform linear regression\n",
        "Onshore_pred = linear_regressor.predict(X)  # make predictions\n",
        "print (Onshore_pred)"
      ]
    },
    {
      "cell_type": "code",
      "execution_count": 32,
      "metadata": {
        "id": "QX_OvNCZ3B1D"
      },
      "outputs": [],
      "source": [
        "Onshore_pred= linear_regressor.predict(years)"
      ]
    },
    {
      "cell_type": "code",
      "execution_count": 33,
      "metadata": {
        "id": "PwV95C-kFPd_"
      },
      "outputs": [],
      "source": [
        "X = df_2.iloc[:, 0].values.reshape(-1, 1)  # values converts it into a numpy array (edited) "
      ]
    },
    {
      "cell_type": "code",
      "execution_count": 34,
      "metadata": {
        "id": "9FwrFIKrs5Jt"
      },
      "outputs": [],
      "source": [
        "df_Year = {'Year':[2010,2012,2013,2014,2015,2016,2017,2018,2019,2020, 2021]} "
      ]
    },
    {
      "cell_type": "code",
      "execution_count": 35,
      "metadata": {
        "id": "pxSLyaKGFVIn"
      },
      "outputs": [],
      "source": [
        "df_Year = pd.DataFrame(df_Year)"
      ]
    },
    {
      "cell_type": "code",
      "execution_count": 36,
      "metadata": {
        "colab": {
          "base_uri": "https://localhost:8080/"
        },
        "id": "uVtgJ1LbGOZI",
        "outputId": "a61e4401-719a-4a11-e879-48dcfd870261"
      },
      "outputs": [
        {
          "data": {
            "text/plain": [
              "447    0.078189\n",
              "449    0.061879\n",
              "450    0.082198\n",
              "451    0.082375\n",
              "452    0.072771\n",
              "453    0.071178\n",
              "454    0.071070\n",
              "455    0.055360\n",
              "456    0.063933\n",
              "457    0.072473\n",
              "458    0.067343\n",
              "Name: Bio, dtype: float64"
            ]
          },
          "execution_count": 36,
          "metadata": {},
          "output_type": "execute_result"
        }
      ],
      "source": [
        "bio = df_2['Bio']\n",
        "bio"
      ]
    },
    {
      "cell_type": "code",
      "execution_count": 37,
      "metadata": {
        "id": "aNXVCldDHyZp"
      },
      "outputs": [],
      "source": [
        "df_Onshore= { 'Onshore':[0.1038152 , 0.09078142,0.08426453,0.07774764, 0.07123075, 0.06471386, 0.05819698, 0.05168009, 0.0451632 , 0.03864631, 0.03212942]}\n",
        "df_Onshore = pd.DataFrame(df_Onshore)"
      ]
    },
    {
      "cell_type": "code",
      "execution_count": 38,
      "metadata": {
        "id": "hP8hIM2CLD3a"
      },
      "outputs": [],
      "source": [
        "import numpy as np"
      ]
    },
    {
      "cell_type": "code",
      "execution_count": 39,
      "metadata": {
        "id": "cH0GUUZSQI8E"
      },
      "outputs": [],
      "source": [
        "frame = ([df_Year,df_Bio, df_Geo, df_Offshore,df_Solar,df_Con,df_Hydro, df_Onshore])\n",
        "df_final= pd.concat(frame,axis=1) \n",
        "          \n",
        "#names=['Bio'],['Geo'],'Offshore','Solar','Con', 'Hydro',['Onshore'])\n"
      ]
    },
    {
      "cell_type": "code",
      "execution_count": 40,
      "metadata": {
        "colab": {
          "base_uri": "https://localhost:8080/",
          "height": 425
        },
        "id": "zRQkwueeq340",
        "outputId": "bdb0d750-cb46-4be9-cbf3-ca61be9d2486"
      },
      "outputs": [
        {
          "data": {
            "text/html": [
              "\n",
              "  <div id=\"df-584f3df5-419d-4d76-9612-c0822174cf05\">\n",
              "    <div class=\"colab-df-container\">\n",
              "      <div>\n",
              "<style scoped>\n",
              "    .dataframe tbody tr th:only-of-type {\n",
              "        vertical-align: middle;\n",
              "    }\n",
              "\n",
              "    .dataframe tbody tr th {\n",
              "        vertical-align: top;\n",
              "    }\n",
              "\n",
              "    .dataframe thead th {\n",
              "        text-align: right;\n",
              "    }\n",
              "</style>\n",
              "<table border=\"1\" class=\"dataframe\">\n",
              "  <thead>\n",
              "    <tr style=\"text-align: right;\">\n",
              "      <th></th>\n",
              "      <th>Bio</th>\n",
              "      <th>Geo</th>\n",
              "      <th>Offshore</th>\n",
              "      <th>Solar</th>\n",
              "      <th>Con</th>\n",
              "      <th>Hydro</th>\n",
              "      <th>Onshore</th>\n",
              "    </tr>\n",
              "    <tr>\n",
              "      <th>Year</th>\n",
              "      <th></th>\n",
              "      <th></th>\n",
              "      <th></th>\n",
              "      <th></th>\n",
              "      <th></th>\n",
              "      <th></th>\n",
              "      <th></th>\n",
              "    </tr>\n",
              "  </thead>\n",
              "  <tbody>\n",
              "    <tr>\n",
              "      <th>2010</th>\n",
              "      <td>0.077140</td>\n",
              "      <td>0.065385</td>\n",
              "      <td>0.194339</td>\n",
              "      <td>0.306014</td>\n",
              "      <td>0.344329</td>\n",
              "      <td>0.038681</td>\n",
              "      <td>0.103815</td>\n",
              "    </tr>\n",
              "    <tr>\n",
              "      <th>2012</th>\n",
              "      <td>0.074993</td>\n",
              "      <td>0.065406</td>\n",
              "      <td>0.171769</td>\n",
              "      <td>0.249780</td>\n",
              "      <td>0.302250</td>\n",
              "      <td>0.040146</td>\n",
              "      <td>0.090781</td>\n",
              "    </tr>\n",
              "    <tr>\n",
              "      <th>2013</th>\n",
              "      <td>0.073920</td>\n",
              "      <td>0.065417</td>\n",
              "      <td>0.160483</td>\n",
              "      <td>0.221664</td>\n",
              "      <td>0.281210</td>\n",
              "      <td>0.040878</td>\n",
              "      <td>0.084265</td>\n",
              "    </tr>\n",
              "    <tr>\n",
              "      <th>2014</th>\n",
              "      <td>0.072846</td>\n",
              "      <td>0.065427</td>\n",
              "      <td>0.149198</td>\n",
              "      <td>0.193547</td>\n",
              "      <td>0.260171</td>\n",
              "      <td>0.041610</td>\n",
              "      <td>0.077748</td>\n",
              "    </tr>\n",
              "    <tr>\n",
              "      <th>2015</th>\n",
              "      <td>0.071773</td>\n",
              "      <td>0.065438</td>\n",
              "      <td>0.137913</td>\n",
              "      <td>0.165430</td>\n",
              "      <td>0.239131</td>\n",
              "      <td>0.042342</td>\n",
              "      <td>0.071231</td>\n",
              "    </tr>\n",
              "    <tr>\n",
              "      <th>2016</th>\n",
              "      <td>0.070700</td>\n",
              "      <td>0.065448</td>\n",
              "      <td>0.126628</td>\n",
              "      <td>0.137314</td>\n",
              "      <td>0.218091</td>\n",
              "      <td>0.043074</td>\n",
              "      <td>0.064714</td>\n",
              "    </tr>\n",
              "    <tr>\n",
              "      <th>2017</th>\n",
              "      <td>0.069626</td>\n",
              "      <td>0.065459</td>\n",
              "      <td>0.115342</td>\n",
              "      <td>0.109197</td>\n",
              "      <td>0.197052</td>\n",
              "      <td>0.043806</td>\n",
              "      <td>0.058197</td>\n",
              "    </tr>\n",
              "    <tr>\n",
              "      <th>2018</th>\n",
              "      <td>0.068553</td>\n",
              "      <td>0.065470</td>\n",
              "      <td>0.104057</td>\n",
              "      <td>0.081081</td>\n",
              "      <td>0.176012</td>\n",
              "      <td>0.044538</td>\n",
              "      <td>0.051680</td>\n",
              "    </tr>\n",
              "    <tr>\n",
              "      <th>2019</th>\n",
              "      <td>0.067480</td>\n",
              "      <td>0.065480</td>\n",
              "      <td>0.092772</td>\n",
              "      <td>0.052964</td>\n",
              "      <td>0.154972</td>\n",
              "      <td>0.045271</td>\n",
              "      <td>0.045163</td>\n",
              "    </tr>\n",
              "    <tr>\n",
              "      <th>2020</th>\n",
              "      <td>0.066406</td>\n",
              "      <td>0.065491</td>\n",
              "      <td>0.081487</td>\n",
              "      <td>0.024847</td>\n",
              "      <td>0.133932</td>\n",
              "      <td>0.046003</td>\n",
              "      <td>0.038646</td>\n",
              "    </tr>\n",
              "    <tr>\n",
              "      <th>2021</th>\n",
              "      <td>0.065333</td>\n",
              "      <td>0.065501</td>\n",
              "      <td>0.070201</td>\n",
              "      <td>-0.003269</td>\n",
              "      <td>0.112893</td>\n",
              "      <td>0.046735</td>\n",
              "      <td>0.032129</td>\n",
              "    </tr>\n",
              "  </tbody>\n",
              "</table>\n",
              "</div>\n",
              "      <button class=\"colab-df-convert\" onclick=\"convertToInteractive('df-584f3df5-419d-4d76-9612-c0822174cf05')\"\n",
              "              title=\"Convert this dataframe to an interactive table.\"\n",
              "              style=\"display:none;\">\n",
              "        \n",
              "  <svg xmlns=\"http://www.w3.org/2000/svg\" height=\"24px\"viewBox=\"0 0 24 24\"\n",
              "       width=\"24px\">\n",
              "    <path d=\"M0 0h24v24H0V0z\" fill=\"none\"/>\n",
              "    <path d=\"M18.56 5.44l.94 2.06.94-2.06 2.06-.94-2.06-.94-.94-2.06-.94 2.06-2.06.94zm-11 1L8.5 8.5l.94-2.06 2.06-.94-2.06-.94L8.5 2.5l-.94 2.06-2.06.94zm10 10l.94 2.06.94-2.06 2.06-.94-2.06-.94-.94-2.06-.94 2.06-2.06.94z\"/><path d=\"M17.41 7.96l-1.37-1.37c-.4-.4-.92-.59-1.43-.59-.52 0-1.04.2-1.43.59L10.3 9.45l-7.72 7.72c-.78.78-.78 2.05 0 2.83L4 21.41c.39.39.9.59 1.41.59.51 0 1.02-.2 1.41-.59l7.78-7.78 2.81-2.81c.8-.78.8-2.07 0-2.86zM5.41 20L4 18.59l7.72-7.72 1.47 1.35L5.41 20z\"/>\n",
              "  </svg>\n",
              "      </button>\n",
              "      \n",
              "  <style>\n",
              "    .colab-df-container {\n",
              "      display:flex;\n",
              "      flex-wrap:wrap;\n",
              "      gap: 12px;\n",
              "    }\n",
              "\n",
              "    .colab-df-convert {\n",
              "      background-color: #E8F0FE;\n",
              "      border: none;\n",
              "      border-radius: 50%;\n",
              "      cursor: pointer;\n",
              "      display: none;\n",
              "      fill: #1967D2;\n",
              "      height: 32px;\n",
              "      padding: 0 0 0 0;\n",
              "      width: 32px;\n",
              "    }\n",
              "\n",
              "    .colab-df-convert:hover {\n",
              "      background-color: #E2EBFA;\n",
              "      box-shadow: 0px 1px 2px rgba(60, 64, 67, 0.3), 0px 1px 3px 1px rgba(60, 64, 67, 0.15);\n",
              "      fill: #174EA6;\n",
              "    }\n",
              "\n",
              "    [theme=dark] .colab-df-convert {\n",
              "      background-color: #3B4455;\n",
              "      fill: #D2E3FC;\n",
              "    }\n",
              "\n",
              "    [theme=dark] .colab-df-convert:hover {\n",
              "      background-color: #434B5C;\n",
              "      box-shadow: 0px 1px 3px 1px rgba(0, 0, 0, 0.15);\n",
              "      filter: drop-shadow(0px 1px 2px rgba(0, 0, 0, 0.3));\n",
              "      fill: #FFFFFF;\n",
              "    }\n",
              "  </style>\n",
              "\n",
              "      <script>\n",
              "        const buttonEl =\n",
              "          document.querySelector('#df-584f3df5-419d-4d76-9612-c0822174cf05 button.colab-df-convert');\n",
              "        buttonEl.style.display =\n",
              "          google.colab.kernel.accessAllowed ? 'block' : 'none';\n",
              "\n",
              "        async function convertToInteractive(key) {\n",
              "          const element = document.querySelector('#df-584f3df5-419d-4d76-9612-c0822174cf05');\n",
              "          const dataTable =\n",
              "            await google.colab.kernel.invokeFunction('convertToInteractive',\n",
              "                                                     [key], {});\n",
              "          if (!dataTable) return;\n",
              "\n",
              "          const docLinkHtml = 'Like what you see? Visit the ' +\n",
              "            '<a target=\"_blank\" href=https://colab.research.google.com/notebooks/data_table.ipynb>data table notebook</a>'\n",
              "            + ' to learn more about interactive tables.';\n",
              "          element.innerHTML = '';\n",
              "          dataTable['output_type'] = 'display_data';\n",
              "          await google.colab.output.renderOutput(dataTable, element);\n",
              "          const docLink = document.createElement('div');\n",
              "          docLink.innerHTML = docLinkHtml;\n",
              "          element.appendChild(docLink);\n",
              "        }\n",
              "      </script>\n",
              "    </div>\n",
              "  </div>\n",
              "  "
            ],
            "text/plain": [
              "           Bio       Geo  Offshore     Solar       Con     Hydro   Onshore\n",
              "Year                                                                      \n",
              "2010  0.077140  0.065385  0.194339  0.306014  0.344329  0.038681  0.103815\n",
              "2012  0.074993  0.065406  0.171769  0.249780  0.302250  0.040146  0.090781\n",
              "2013  0.073920  0.065417  0.160483  0.221664  0.281210  0.040878  0.084265\n",
              "2014  0.072846  0.065427  0.149198  0.193547  0.260171  0.041610  0.077748\n",
              "2015  0.071773  0.065438  0.137913  0.165430  0.239131  0.042342  0.071231\n",
              "2016  0.070700  0.065448  0.126628  0.137314  0.218091  0.043074  0.064714\n",
              "2017  0.069626  0.065459  0.115342  0.109197  0.197052  0.043806  0.058197\n",
              "2018  0.068553  0.065470  0.104057  0.081081  0.176012  0.044538  0.051680\n",
              "2019  0.067480  0.065480  0.092772  0.052964  0.154972  0.045271  0.045163\n",
              "2020  0.066406  0.065491  0.081487  0.024847  0.133932  0.046003  0.038646\n",
              "2021  0.065333  0.065501  0.070201 -0.003269  0.112893  0.046735  0.032129"
            ]
          },
          "execution_count": 40,
          "metadata": {},
          "output_type": "execute_result"
        }
      ],
      "source": [
        "df_final\n",
        "df_final.set_index('Year')"
      ]
    },
    {
      "cell_type": "code",
      "execution_count": 41,
      "metadata": {
        "colab": {
          "base_uri": "https://localhost:8080/",
          "height": 295
        },
        "id": "-EvoE0jfjKJE",
        "outputId": "d2338138-e11d-46cd-8518-89bdb92a302f"
      },
      "outputs": [
        {
          "data": {
            "image/png": "[encoded data removed]",
            "text/plain": [
              "<Figure size 432x288 with 1 Axes>"
            ]
          },
          "metadata": {
            "needs_background": "light"
          },
          "output_type": "display_data"
        }
      ],
      "source": [
        "fig, ax = plt.subplots()\n",
        "plt.plot(df_final['Year'], df_final['Geo'], label=\"Geo\")\n",
        "plt.plot(df_final['Year'], df_final['Bio'],label=\"Bio\")\n",
        "plt.plot(df_final['Year'], df_final['Offshore'],label=\"Offshore\")\n",
        "plt.plot(df_final['Year'], df_final['Solar'],label=\"Solar\")\n",
        "plt.plot(df_final['Year'], df_final['Con'],label=\"Con\")\n",
        "plt.plot(df_final['Year'], df_final['Hydro'],label=\"Hdro\")\n",
        "plt.plot(df_final['Year'], df_final['Onshore'],label=\"Onshore\")\n",
        "plt.title(\"Prijzen niet- fossiele energie\")\n",
        "plt.xlabel(\"Year\")\n",
        "plt.ylabel(\"prijzen\")\n",
        "plt.legend(loc='center left', bbox_to_anchor=(1, 0.5))\n",
        "plt.grid()\n"
      ]
    },
    {
      "cell_type": "code",
      "execution_count": 42,
      "metadata": {
        "colab": {
          "base_uri": "https://localhost:8080/",
          "height": 295
        },
        "id": "W1bKDIQUjbel",
        "outputId": "fac3c70e-6d73-4b55-9cb2-1e6533c6b7df"
      },
      "outputs": [
        {
          "data": {
            "image/png": "[encoded data removed]",
            "text/plain": [
              "<Figure size 432x288 with 1 Axes>"
            ]
          },
          "metadata": {
            "needs_background": "light"
          },
          "output_type": "display_data"
        }
      ],
      "source": [
        "df_final.columns ='Year', 'Bio','Geo','Offshore','Solar','Con', 'Hydro','Onshore'\n",
        "fig, ax = plt.subplots()\n",
        "\n",
        "columns  = df_final.columns[1:]\n",
        "\n",
        "for index, column in df_final.iterrows():\n",
        "  plt.plot(column[1:], label=column[0])\n",
        "\n",
        "plt.title(\"Prijzen niet- fossiele energie\")\n",
        "plt.xlabel(\"niet-fossiele energie\")\n",
        "plt.ylabel(\"prijzen\")\n",
        "plt.legend(loc='center left', bbox_to_anchor=(1, 0.5))\n",
        "plt.grid()\n",
        "\n",
        "plt.show()"
      ]
    },
    {
      "cell_type": "code",
      "execution_count": 43,
      "metadata": {
        "colab": {
          "base_uri": "https://localhost:8080/",
          "height": 282
        },
        "id": "Obbrk9UaWvIN",
        "outputId": "7972a23d-9a9e-4c37-c78b-f26de5623bbd"
      },
      "outputs": [
        {
          "data": {
            "text/plain": [
              "<matplotlib.axes._subplots.AxesSubplot at 0x7fa8f1c398e0>"
            ]
          },
          "execution_count": 43,
          "metadata": {},
          "output_type": "execute_result"
        },
        {
          "data": {
            "image/png": "[encoded data removed]",
            "text/plain": [
              "<Figure size 432x288 with 1 Axes>"
            ]
          },
          "metadata": {
            "needs_background": "light"
          },
          "output_type": "display_data"
        }
      ],
      "source": [
        "# Fit coefficents.\n",
        "\n",
        "coef = np.polyfit(df_2['Year'], df_2['Hydro'],1)\n",
        "\n",
        "# Generate predictions for entire series.\n",
        "\n",
        "df_2['predicted'] = pd.Series(np.polyval(coef, df_2['Year']))\n",
        "\n",
        "df_2[['Hydro', 'predicted']].plot()"
      ]
    },
    {
      "cell_type": "code",
      "execution_count": null,
      "metadata": {
        "id": "n1-2lIsKwBK4"
      },
      "outputs": [],
      "source": [
        "years = np.array(range(2000,2050)).reshape(-1,1)\n",
        "#Solar_pred= linear_regressor.predict(years)\n",
        "#Bio_pred= linear_regressor.predict(years)\n",
        "#Hydro_pred= linear_regressor.predict(years)\n",
        "#Offshore_pred= linear_regressor.predict(years)\n",
        "#Onshore_pred= linear_regressor.predict(years)\n",
        "#Con_pred= linear_regressor.predict(years)\n",
        "Geo_pred= linear_regressor.predict(years)\n",
        "print (Geo_pred)\n"
      ]
    },
    {
      "cell_type": "code",
      "execution_count": 48,
      "metadata": {
        "colab": {
          "base_uri": "https://localhost:8080/",
          "height": 295
        },
        "id": "CoczBOr80MAM",
        "outputId": "efbf0e5b-15e7-447a-8800-21cff9d5e306"
      },
      "outputs": [
        {
          "data": {
            "image/png": "[encoded data removed]",
            "text/plain": [
              "<Figure size 432x288 with 1 Axes>"
            ]
          },
          "metadata": {
            "needs_background": "light"
          },
          "output_type": "display_data"
        }
      ],
      "source": [
        "fig, ax = plt.subplots()\n",
        "plt.plot (Solar_pred,label=\"Solar\")\n",
        "plt.plot (Bio_pred,label=\"Bio\")\n",
        "plt.plot (Offshore_pred,label=\"Offshore\")\n",
        "plt.plot (Onshore_pred,label=\"Onshore\")\n",
        "plt.plot (Con_pred,label=\"Con\")\n",
        "plt.plot (Hydro_pred,label=\"Hydro\")\n",
        "plt.title(\"voorspelling prijzen van jaar 2000 tot jaar 2050\")\n",
        "plt.xlabel(\"Year\")\n",
        "plt.ylabel(\"prijzen\")\n",
        "plt.legend(loc='center left', bbox_to_anchor=(1, 0.5))\n",
        "plt.grid()"
      ]
    }
  ],
  "metadata": {
    "colab": {
      "provenance": []
    },
    "kernelspec": {
      "display_name": "Python 3",
      "name": "python3"
    },
    "language_info": {
      "name": "python"
    }
  },
  "nbformat": 4,
  "nbformat_minor": 0
}
